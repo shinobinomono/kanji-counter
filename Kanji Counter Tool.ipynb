{
 "cells": [
  {
   "cell_type": "code",
   "execution_count": 1,
   "metadata": {},
   "outputs": [],
   "source": [
    "import numpy as np\n",
    "import matplotlib.pyplot as plt"
   ]
  },
  {
   "cell_type": "code",
   "execution_count": 12,
   "metadata": {},
   "outputs": [],
   "source": [
    "hiragana_txt = []\n",
    "katakana_txt = []\n",
    "kanji_txt = []\n",
    "alphabet_txt = []\n",
    "punctuation_txt = []\n",
    "number_txt = []\n",
    "exceptions = []"
   ]
  },
  {
   "cell_type": "code",
   "execution_count": 13,
   "metadata": {},
   "outputs": [],
   "source": [
    "hiragana= list(\"あいうえおかきくけこさしすせそたちつてとなにぬねのはひふへほまみむめもやゆよらりるれろわをんがぎぐげござじずぜぞだぢづでどばびぶべぼぱぴぷぺぽぁぅぃぇぉっゃゅょ\")"
   ]
  },
  {
   "cell_type": "code",
   "execution_count": 14,
   "metadata": {},
   "outputs": [],
   "source": [
    "katakana= list(\"アイウエオカキクケコサシスセソタチツテトナニヌネノハヒフヘホマミムメモヤユヨラリルレロワヲンガギグゲゴザジズゼゾダヂヅデドバビブベボパピプペポァィゥェォーッャュョヴ\")"
   ]
  },
  {
   "cell_type": "code",
   "execution_count": 15,
   "metadata": {},
   "outputs": [
    {
     "name": "stdout",
     "output_type": "stream",
     "text": [
      "['a', 'b', 'c', 'd', 'e', 'f', 'g', 'h', 'i', 'j', 'k', 'l', 'm', 'n', 'o', 'p', 'q', 'r', 's', 't', 'u', 'v', 'w', 'x', 'y', 'z', 'A', 'B', 'C', 'D', 'E', 'F', 'G', 'H', 'I', 'J', 'K', 'L', 'M', 'N', 'O', 'P', 'Q', 'R', 'S', 'T', 'U', 'V', 'W', 'X', 'Y', 'Z']\n"
     ]
    }
   ],
   "source": [
    "alphabet = list(\"abcdefghijklmnopqrstuvwxyzABCDEFGHIJKLMNOPQRSTUVWXYZ\")\n",
    "print(alphabet)"
   ]
  },
  {
   "cell_type": "code",
   "execution_count": 16,
   "metadata": {},
   "outputs": [
    {
     "name": "stdout",
     "output_type": "stream",
     "text": [
      "['.', '。', '!', '！', ',', '、', ';', '；', ':', '：', '#', '$', '%', '&', ' ', '\\u3000', '「', '」', '（', '）', '※', '/', '～', '-', '\\t', '＆', '・', '[', ']', '(', ')', '“', '”', \"'\"]\n"
     ]
    }
   ],
   "source": [
    "punctuation = list(\".。!！,、;；:：#$%& 　「」（）※/～-\\t＆・[]()\")\n",
    "punctuation.append('“')\n",
    "punctuation.append('”')\n",
    "punctuation.append(\"'\")\n",
    "print(punctuation)"
   ]
  },
  {
   "cell_type": "code",
   "execution_count": 17,
   "metadata": {},
   "outputs": [
    {
     "name": "stdout",
     "output_type": "stream",
     "text": [
      "['0', '1', '2', '3', '4', '5', '6', '7', '8', '9', '1', '2', '3', '4', '5', '6', '7', '8', '9']\n"
     ]
    }
   ],
   "source": [
    "numbers = list(\"0123456789123456789\")\n",
    "print(numbers)"
   ]
  },
  {
   "cell_type": "code",
   "execution_count": 18,
   "metadata": {},
   "outputs": [
    {
     "name": "stdout",
     "output_type": "stream",
     "text": [
      "これに類する動物は、人間の世話になっていない動物とされるが、その一方で近代以降に於いて人間が積極的に自然保護の活動を行っている点で、やや曖昧な概念を含む傾向も見られる。これらは動物の種としては動物園等で飼育されている動物と、遺伝子等の上でも違いは無いが、その生活を持って区分される。  野生動物という語に対する明確な定義は無い。対義語と比較し、人に飼養または飼育され、かつ行動が人によって抑制または制限あるいは監督されているものは一般的に野生動物ではないとされる。その個体が仮に遺伝的に野生動物であったとしても、個体は野生の動物であるがそれは家畜（飼養動物）やペット（飼育動物）となる。  人に給餌されていたとしても、その行動が人によって抑制または制限あるいは監督されていないもの、例えば釧路のタンチョウヅル、鹿児島県出水市の鶴などは野生動物とされる[1][2]。所有又は占有の事実をもって分別される場合もある。  もっとも顕著な例としては、犬やイエネコ（猫）が挙げられる。犬やイエネコは人間に飼育されている物は給餌を受け行動が人によって抑制または制限あるいは監督されているためペット（飼育動物）、特定の誰かに飼育されていないが人間の社会に依存して生活していれば野良犬や野良猫（野生動物）[3]、原野で狩りをして自分で食糧を得て人間に頼らない生活を送るものを野犬（のいぬ）や野猫（のねこ）と呼ぶ（野生動物）[4]。  また、元来はそれら動物の生息域ではなかった地域に人為的に放たれて生活している場合は、野生動物の範疇に含まないで、帰化動物（外来種）となる。他の外来種の例に漏れず、これらの元飼育動物には天敵も存在しない為、生態系のバランスを崩す事も多い。  また、家畜は家畜化される過程で、自然選択の圧力を受けなくなった事で野生動物の頃とは異なる形質を獲得しており、その点においても野生動物とは異質である（家畜化#家畜化に伴う変化も参照）。ホルスタインなどはこれにあたる[5]。\n"
     ]
    }
   ],
   "source": [
    "txt_original = input('')"
   ]
  },
  {
   "cell_type": "code",
   "execution_count": 19,
   "metadata": {},
   "outputs": [],
   "source": [
    "for symbol in txt_original:\n",
    "    if symbol in hiragana:\n",
    "        hiragana_txt.append(symbol)\n",
    "    elif symbol in katakana:\n",
    "        katakana_txt.append(symbol)\n",
    "    elif symbol in alphabet:\n",
    "        alphabet_txt.append(symbol)\n",
    "    elif symbol in punctuation:\n",
    "        punctuation_txt.append(symbol)\n",
    "    elif symbol in numbers:\n",
    "        number_txt.append(symbol)\n",
    "    else:\n",
    "        kanji_txt.append(symbol)"
   ]
  },
  {
   "cell_type": "code",
   "execution_count": 20,
   "metadata": {},
   "outputs": [
    {
     "data": {
      "text/plain": [
       "['類',\n",
       " '動',\n",
       " '物',\n",
       " '人',\n",
       " '間',\n",
       " '世',\n",
       " '話',\n",
       " '動',\n",
       " '物',\n",
       " '一',\n",
       " '方',\n",
       " '近',\n",
       " '代',\n",
       " '以',\n",
       " '降',\n",
       " '於',\n",
       " '人',\n",
       " '間',\n",
       " '積',\n",
       " '極',\n",
       " '的',\n",
       " '自',\n",
       " '然',\n",
       " '保',\n",
       " '護',\n",
       " '活',\n",
       " '動',\n",
       " '行',\n",
       " '点',\n",
       " '曖',\n",
       " '昧',\n",
       " '概',\n",
       " '念',\n",
       " '含',\n",
       " '傾',\n",
       " '向',\n",
       " '見',\n",
       " '動',\n",
       " '物',\n",
       " '種',\n",
       " '動',\n",
       " '物',\n",
       " '園',\n",
       " '等',\n",
       " '飼',\n",
       " '育',\n",
       " '動',\n",
       " '物',\n",
       " '遺',\n",
       " '伝',\n",
       " '子',\n",
       " '等',\n",
       " '上',\n",
       " '違',\n",
       " '無',\n",
       " '生',\n",
       " '活',\n",
       " '持',\n",
       " '区',\n",
       " '分',\n",
       " '野',\n",
       " '生',\n",
       " '動',\n",
       " '物',\n",
       " '語',\n",
       " '対',\n",
       " '明',\n",
       " '確',\n",
       " '定',\n",
       " '義',\n",
       " '無',\n",
       " '対',\n",
       " '義',\n",
       " '語',\n",
       " '比',\n",
       " '較',\n",
       " '人',\n",
       " '飼',\n",
       " '養',\n",
       " '飼',\n",
       " '育',\n",
       " '行',\n",
       " '動',\n",
       " '人',\n",
       " '抑',\n",
       " '制',\n",
       " '制',\n",
       " '限',\n",
       " '監',\n",
       " '督',\n",
       " '一',\n",
       " '般',\n",
       " '的',\n",
       " '野',\n",
       " '生',\n",
       " '動',\n",
       " '物',\n",
       " '個',\n",
       " '体',\n",
       " '仮',\n",
       " '遺',\n",
       " '伝',\n",
       " '的',\n",
       " '野',\n",
       " '生',\n",
       " '動',\n",
       " '物',\n",
       " '個',\n",
       " '体',\n",
       " '野',\n",
       " '生',\n",
       " '動',\n",
       " '物',\n",
       " '家',\n",
       " '畜',\n",
       " '飼',\n",
       " '養',\n",
       " '動',\n",
       " '物',\n",
       " '飼',\n",
       " '育',\n",
       " '動',\n",
       " '物',\n",
       " '人',\n",
       " '給',\n",
       " '餌',\n",
       " '行',\n",
       " '動',\n",
       " '人',\n",
       " '抑',\n",
       " '制',\n",
       " '制',\n",
       " '限',\n",
       " '監',\n",
       " '督',\n",
       " '例',\n",
       " '釧',\n",
       " '路',\n",
       " '鹿',\n",
       " '児',\n",
       " '島',\n",
       " '県',\n",
       " '出',\n",
       " '水',\n",
       " '市',\n",
       " '鶴',\n",
       " '野',\n",
       " '生',\n",
       " '動',\n",
       " '物',\n",
       " '所',\n",
       " '有',\n",
       " '又',\n",
       " '占',\n",
       " '有',\n",
       " '事',\n",
       " '実',\n",
       " '分',\n",
       " '別',\n",
       " '場',\n",
       " '合',\n",
       " '顕',\n",
       " '著',\n",
       " '例',\n",
       " '犬',\n",
       " '猫',\n",
       " '挙',\n",
       " '犬',\n",
       " '人',\n",
       " '間',\n",
       " '飼',\n",
       " '育',\n",
       " '物',\n",
       " '給',\n",
       " '餌',\n",
       " '受',\n",
       " '行',\n",
       " '動',\n",
       " '人',\n",
       " '抑',\n",
       " '制',\n",
       " '制',\n",
       " '限',\n",
       " '監',\n",
       " '督',\n",
       " '飼',\n",
       " '育',\n",
       " '動',\n",
       " '物',\n",
       " '特',\n",
       " '定',\n",
       " '誰',\n",
       " '飼',\n",
       " '育',\n",
       " '人',\n",
       " '間',\n",
       " '社',\n",
       " '会',\n",
       " '依',\n",
       " '存',\n",
       " '生',\n",
       " '活',\n",
       " '野',\n",
       " '良',\n",
       " '犬',\n",
       " '野',\n",
       " '良',\n",
       " '猫',\n",
       " '野',\n",
       " '生',\n",
       " '動',\n",
       " '物',\n",
       " '原',\n",
       " '野',\n",
       " '狩',\n",
       " '自',\n",
       " '分',\n",
       " '食',\n",
       " '糧',\n",
       " '得',\n",
       " '人',\n",
       " '間',\n",
       " '頼',\n",
       " '生',\n",
       " '活',\n",
       " '送',\n",
       " '野',\n",
       " '犬',\n",
       " '野',\n",
       " '猫',\n",
       " '呼',\n",
       " '野',\n",
       " '生',\n",
       " '動',\n",
       " '物',\n",
       " '元',\n",
       " '来',\n",
       " '動',\n",
       " '物',\n",
       " '生',\n",
       " '息',\n",
       " '域',\n",
       " '地',\n",
       " '域',\n",
       " '人',\n",
       " '為',\n",
       " '的',\n",
       " '放',\n",
       " '生',\n",
       " '活',\n",
       " '場',\n",
       " '合',\n",
       " '野',\n",
       " '生',\n",
       " '動',\n",
       " '物',\n",
       " '範',\n",
       " '疇',\n",
       " '含',\n",
       " '帰',\n",
       " '化',\n",
       " '動',\n",
       " '物',\n",
       " '外',\n",
       " '来',\n",
       " '種',\n",
       " '他',\n",
       " '外',\n",
       " '来',\n",
       " '種',\n",
       " '例',\n",
       " '漏',\n",
       " '元',\n",
       " '飼',\n",
       " '育',\n",
       " '動',\n",
       " '物',\n",
       " '天',\n",
       " '敵',\n",
       " '存',\n",
       " '在',\n",
       " '為',\n",
       " '生',\n",
       " '態',\n",
       " '系',\n",
       " '崩',\n",
       " '事',\n",
       " '多',\n",
       " '家',\n",
       " '畜',\n",
       " '家',\n",
       " '畜',\n",
       " '化',\n",
       " '過',\n",
       " '程',\n",
       " '自',\n",
       " '然',\n",
       " '選',\n",
       " '択',\n",
       " '圧',\n",
       " '力',\n",
       " '受',\n",
       " '事',\n",
       " '野',\n",
       " '生',\n",
       " '動',\n",
       " '物',\n",
       " '頃',\n",
       " '異',\n",
       " '形',\n",
       " '質',\n",
       " '獲',\n",
       " '得',\n",
       " '点',\n",
       " '野',\n",
       " '生',\n",
       " '動',\n",
       " '物',\n",
       " '異',\n",
       " '質',\n",
       " '家',\n",
       " '畜',\n",
       " '化',\n",
       " '家',\n",
       " '畜',\n",
       " '化',\n",
       " '伴',\n",
       " '変',\n",
       " '化',\n",
       " '参',\n",
       " '照']"
      ]
     },
     "execution_count": 20,
     "metadata": {},
     "output_type": "execute_result"
    }
   ],
   "source": [
    "kanji_txt"
   ]
  },
  {
   "cell_type": "code",
   "execution_count": 21,
   "metadata": {},
   "outputs": [],
   "source": [
    "tcount = len(txt_original)\n",
    "kancount = len(kanji_txt)\n",
    "acount = len(alphabet)\n",
    "pcount = len(punctuation_txt)\n",
    "hcount = len(hiragana_txt)\n",
    "ncount = len(number_txt)\n",
    "kcount = len(katakana_txt)"
   ]
  },
  {
   "cell_type": "code",
   "execution_count": 22,
   "metadata": {},
   "outputs": [
    {
     "name": "stdout",
     "output_type": "stream",
     "text": [
      "total counts:\n",
      "original text: 839\n",
      "kanji text: 331\n",
      "alphabet text: 52\n",
      "punctuation text: 76\n",
      "hiragana text: 396\n",
      "number text 5\n",
      "katakana text: 31\n"
     ]
    }
   ],
   "source": [
    "print(\"total counts:\")\n",
    "print('original text:', len(txt_original))\n",
    "print('kanji text:', len(kanji_txt))\n",
    "print('alphabet text:', len(alphabet))\n",
    "print('punctuation text:', len(punctuation_txt))\n",
    "print('hiragana text:', len(hiragana_txt))\n",
    "print('number text', len(number_txt))\n",
    "print('katakana text:', len(katakana_txt))"
   ]
  },
  {
   "cell_type": "code",
   "execution_count": 23,
   "metadata": {},
   "outputs": [
    {
     "name": "stdout",
     "output_type": "stream",
     "text": [
      "4\n"
     ]
    }
   ],
   "source": [
    "kper = int(round((kcount/tcount)*100, 0))\n",
    "print(kper)"
   ]
  },
  {
   "cell_type": "code",
   "execution_count": 24,
   "metadata": {},
   "outputs": [
    {
     "name": "stdout",
     "output_type": "stream",
     "text": [
      "96\n"
     ]
    }
   ],
   "source": [
    "nokori = 100-kper\n",
    "print(nokori)"
   ]
  },
  {
   "cell_type": "code",
   "execution_count": 25,
   "metadata": {},
   "outputs": [
    {
     "data": {
      "text/plain": [
       "<function matplotlib.pyplot.show(close=None, block=None)>"
      ]
     },
     "execution_count": 25,
     "metadata": {},
     "output_type": "execute_result"
    },
    {
     "data": {
      "image/png": "[encoded data removed]",
      "text/plain": [
       "<Figure size 432x288 with 1 Axes>"
      ]
     },
     "metadata": {},
     "output_type": "display_data"
    }
   ],
   "source": [
    "explodes = [0.2, 0]\n",
    "piecolors = ['orange', 'skyblue']\n",
    "x = ['katakana', 'other']\n",
    "y = [kper, nokori]\n",
    "plt.pie(y, labels = x, explode = explodes, shadow = True, autopct='%1.0f%%', colors = piecolors)\n",
    "plt.show"
   ]
  }
 ],
 "metadata": {
  "kernelspec": {
   "display_name": "Python 3",
   "language": "python",
   "name": "python3"
  },
  "language_info": {
   "codemirror_mode": {
    "name": "ipython",
    "version": 3
   },
   "file_extension": ".py",
   "mimetype": "text/x-python",
   "name": "python",
   "nbconvert_exporter": "python",
   "pygments_lexer": "ipython3",
   "version": "3.8.5"
  }
 },
 "nbformat": 4,
 "nbformat_minor": 4
}
